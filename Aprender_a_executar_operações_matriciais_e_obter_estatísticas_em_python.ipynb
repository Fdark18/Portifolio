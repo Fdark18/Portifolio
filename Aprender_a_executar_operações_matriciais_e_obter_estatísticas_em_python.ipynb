{
  "nbformat": 4,
  "nbformat_minor": 0,
  "metadata": {
    "colab": {
      "provenance": [],
      "authorship_tag": "ABX9TyODIVF84sCWhfu3+vxn06NL",
      "include_colab_link": true
    },
    "kernelspec": {
      "name": "python3",
      "display_name": "Python 3"
    },
    "language_info": {
      "name": "python"
    }
  },
  "cells": [
    {
      "cell_type": "markdown",
      "metadata": {
        "id": "view-in-github",
        "colab_type": "text"
      },
      "source": [
        "<a href=\"https://colab.research.google.com/github/Fdark18/Portifolio/blob/main/Aprender_a_executar_opera%C3%A7%C3%B5es_matriciais_e_obter_estat%C3%ADsticas_em_python.ipynb\" target=\"_parent\"><img src=\"https://colab.research.google.com/assets/colab-badge.svg\" alt=\"Open In Colab\"/></a>"
      ]
    },
    {
      "cell_type": "markdown",
      "source": [
        "# **Importar o numpy**"
      ],
      "metadata": {
        "id": "F2f-ZIvCrDn3"
      }
    },
    {
      "cell_type": "code",
      "execution_count": 1,
      "metadata": {
        "id": "J_UDOHH8oWEx"
      },
      "outputs": [],
      "source": [
        "import numpy as np\n"
      ]
    },
    {
      "cell_type": "markdown",
      "source": [
        "# Criar uma matriz unidimensional:\n",
        "Use a função array() do NumPy para criar uma matriz de uma dimensão. Por exemplo:\n",
        "\n",
        "Neste exemplo, criamos uma matriz com os elementos 1, 2, 3, 4 e 5. Você pode acessar os elementos da matriz usando índices, assim como faria com uma lista em Python"
      ],
      "metadata": {
        "id": "y1kroAKprSJ-"
      }
    },
    {
      "cell_type": "code",
      "source": [
        "matriz = np.array([1,2,3,4,5])"
      ],
      "metadata": {
        "id": "pQWc5LAarPwy"
      },
      "execution_count": 2,
      "outputs": []
    },
    {
      "cell_type": "markdown",
      "source": [
        "**Criar uma matriz bidimensional:**\n",
        "\n",
        "Para criar uma matriz 2D, faça o seguinte:\n",
        "\n",
        "Neste exemplo, criamos uma matriz 3x3, onde cada elemento é um número inteiro. Você pode acessar os elementos dessa matriz usando a notação de índice bidimensional."
      ],
      "metadata": {
        "id": "v2wLfcaBrlfG"
      }
    },
    {
      "cell_type": "code",
      "source": [
        "matriz = np.array([[1,2,3], [4,5,6],[7,8,9]])"
      ],
      "metadata": {
        "id": "p-HOpAvPrkt3"
      },
      "execution_count": 3,
      "outputs": []
    },
    {
      "cell_type": "markdown",
      "source": [
        "# **Soma de matrizes:**\n",
        "\n",
        "Para somar duas matrizes, elas devem ter as mesmas dimensões. Podemos usar o operador + para somar os elementos correspondentes das matrizes. Por exemplo:\n",
        "\n",
        "\n",
        "\n"
      ],
      "metadata": {
        "id": "YzJUv5PssLqC"
      }
    },
    {
      "cell_type": "code",
      "source": [
        "A = np.array([[1,2],[3,4]])\n",
        "B = np.array([[5,6],[7,8]])\n",
        "C = A + B\n",
        "print (C)"
      ],
      "metadata": {
        "colab": {
          "base_uri": "https://localhost:8080/"
        },
        "id": "GZbo6sjCsPxd",
        "outputId": "3522992c-d624-4cb9-f485-b2ae4b3e968c"
      },
      "execution_count": 4,
      "outputs": [
        {
          "output_type": "stream",
          "name": "stdout",
          "text": [
            "[[ 6  8]\n",
            " [10 12]]\n"
          ]
        }
      ]
    },
    {
      "cell_type": "markdown",
      "source": [
        "# **Determinante de uma matriz:**\n",
        "\n",
        " O determinante é um valor numérico que representa a área ou o volume de uma matriz. Podemos usar a função np.linalg.det() para calcular o determinante de uma matriz quadrada. Por exemplo:"
      ],
      "metadata": {
        "id": "QUzy6IJwzQbh"
      }
    },
    {
      "cell_type": "code",
      "source": [
        "a = np.array([[1,2],[3,4]])\n",
        "det = np.linalg.det(a)\n",
        "print (det)"
      ],
      "metadata": {
        "colab": {
          "base_uri": "https://localhost:8080/"
        },
        "id": "Nb_xK_TQzXfj",
        "outputId": "903f559a-0a4b-4d48-dc8c-5c26665ec2b5"
      },
      "execution_count": 5,
      "outputs": [
        {
          "output_type": "stream",
          "name": "stdout",
          "text": [
            "-2.0000000000000004\n"
          ]
        }
      ]
    },
    {
      "cell_type": "markdown",
      "source": [
        "# **Determinante de uma matriz:**\n",
        "\n",
        " O determinante é um valor numérico que representa a área ou o volume de uma matriz. Podemos usar a função np.linalg.det() para calcular o determinante de uma matriz quadrada. Por exemplo:"
      ],
      "metadata": {
        "id": "8aYTMWxl0FO_"
      }
    },
    {
      "cell_type": "code",
      "source": [
        "a = np.array([[1,2],[3,4]])\n",
        "inv = np.linalg.inv(a)\n",
        "print (inv)"
      ],
      "metadata": {
        "colab": {
          "base_uri": "https://localhost:8080/"
        },
        "id": "As8396Nu0K0G",
        "outputId": "31c81db8-5c36-43c2-8ce1-81607c3ee73e"
      },
      "execution_count": 6,
      "outputs": [
        {
          "output_type": "stream",
          "name": "stdout",
          "text": [
            "[[-2.   1. ]\n",
            " [ 1.5 -0.5]]\n"
          ]
        }
      ]
    },
    {
      "cell_type": "markdown",
      "source": [
        "# **Multiplicação de matrizes:**\n",
        "\n",
        " Para multiplicar duas matrizes, o número de colunas da primeira matriz deve ser igual ao número de linhas da segunda matriz. Podemos usar o operador @ ou a função np.dot() para multiplicar as matrizes. Por exemplo::"
      ],
      "metadata": {
        "id": "f4bvicJp0ej8"
      }
    },
    {
      "cell_type": "code",
      "source": [
        "a = np.array([[1,2],[3,4]])\n",
        "b = np.array([[3,4],[5,6]])\n",
        "c = a@b\n",
        "print (c)"
      ],
      "metadata": {
        "colab": {
          "base_uri": "https://localhost:8080/"
        },
        "id": "GShE-Axf0iu3",
        "outputId": "86f19440-6ee4-472f-9d60-da679cbf337f"
      },
      "execution_count": 7,
      "outputs": [
        {
          "output_type": "stream",
          "name": "stdout",
          "text": [
            "[[13 16]\n",
            " [29 36]]\n"
          ]
        }
      ]
    },
    {
      "cell_type": "markdown",
      "source": [
        "# Para obter estatísticas em Python, podemos usar a biblioteca statistics, que fornece funções para o cálculo de estatísticas matemáticas de dados numéricos. Algumas das funções que podemos usar são:\n",
        "\n",
        "statistics.mean(data): Retorna a média aritmética dos dados.\n",
        "\n",
        "statistics.median(data): Retorna a mediana (ou o valor médio) dos dados.\n",
        "\n",
        "statistics.mode(data): Retorna o valor mais comum nos dados.\n",
        "\n",
        "statistics.stdev(data): Retorna o desvio padrão dos dados.\n",
        "\n",
        "statistics.variance(data): Retorna a variância dos dados.\n",
        "\n",
        "Veja alguns exemplos:"
      ],
      "metadata": {
        "id": "PuGSR6ws1QWt"
      }
    },
    {
      "cell_type": "code",
      "source": [],
      "metadata": {
        "id": "7E8AGRfe1UUj"
      },
      "execution_count": null,
      "outputs": []
    }
  ]
}