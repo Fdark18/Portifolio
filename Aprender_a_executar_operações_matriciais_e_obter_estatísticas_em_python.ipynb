{
  "nbformat": 4,
  "nbformat_minor": 0,
  "metadata": {
    "colab": {
      "provenance": [],
      "authorship_tag": "ABX9TyPHU+4IuisM+kZ7MugUXYB7",
      "include_colab_link": true
    },
    "kernelspec": {
      "name": "python3",
      "display_name": "Python 3"
    },
    "language_info": {
      "name": "python"
    }
  },
  "cells": [
    {
      "cell_type": "markdown",
      "metadata": {
        "id": "view-in-github",
        "colab_type": "text"
      },
      "source": [
        "<a href=\"https://colab.research.google.com/github/Fdark18/Portifolio/blob/main/Aprender_a_executar_opera%C3%A7%C3%B5es_matriciais_e_obter_estat%C3%ADsticas_em_python.ipynb\" target=\"_parent\"><img src=\"https://colab.research.google.com/assets/colab-badge.svg\" alt=\"Open In Colab\"/></a>"
      ]
    },
    {
      "cell_type": "markdown",
      "source": [
        "# **Importar o numpy**"
      ],
      "metadata": {
        "id": "F2f-ZIvCrDn3"
      }
    },
    {
      "cell_type": "code",
      "execution_count": 1,
      "metadata": {
        "id": "J_UDOHH8oWEx"
      },
      "outputs": [],
      "source": [
        "import numpy as np\n"
      ]
    },
    {
      "cell_type": "markdown",
      "source": [
        "# Criar uma matriz unidimensional:\n",
        "Use a função array() do NumPy para criar uma matriz de uma dimensão. Por exemplo:\n",
        "\n",
        "Neste exemplo, criamos uma matriz com os elementos 1, 2, 3, 4 e 5. Você pode acessar os elementos da matriz usando índices, assim como faria com uma lista em Python"
      ],
      "metadata": {
        "id": "y1kroAKprSJ-"
      }
    },
    {
      "cell_type": "code",
      "source": [
        "matriz = np.array([1,2,3,4,5])"
      ],
      "metadata": {
        "id": "pQWc5LAarPwy"
      },
      "execution_count": 2,
      "outputs": []
    },
    {
      "cell_type": "markdown",
      "source": [
        "**Criar uma matriz bidimensional:**\n",
        "\n",
        "Para criar uma matriz 2D, faça o seguinte:\n",
        "\n",
        "Neste exemplo, criamos uma matriz 3x3, onde cada elemento é um número inteiro. Você pode acessar os elementos dessa matriz usando a notação de índice bidimensional."
      ],
      "metadata": {
        "id": "v2wLfcaBrlfG"
      }
    },
    {
      "cell_type": "code",
      "source": [
        "matriz = np.array([[1,2,3], [4,5,6],[7,8,9]])"
      ],
      "metadata": {
        "id": "p-HOpAvPrkt3"
      },
      "execution_count": 3,
      "outputs": []
    },
    {
      "cell_type": "markdown",
      "source": [
        "# **Soma de matrizes:**\n",
        "\n",
        "Para somar duas matrizes, elas devem ter as mesmas dimensões. Podemos usar o operador + para somar os elementos correspondentes das matrizes. Por exemplo:\n",
        "\n",
        "\n",
        "\n"
      ],
      "metadata": {
        "id": "YzJUv5PssLqC"
      }
    },
    {
      "cell_type": "code",
      "source": [
        "A = np.array([[1,2],[3,4]])\n",
        "B = np.array([[5,6],[7,8]])\n",
        "C = A + B\n",
        "print (C)"
      ],
      "metadata": {
        "colab": {
          "base_uri": "https://localhost:8080/"
        },
        "id": "GZbo6sjCsPxd",
        "outputId": "3522992c-d624-4cb9-f485-b2ae4b3e968c"
      },
      "execution_count": 4,
      "outputs": [
        {
          "output_type": "stream",
          "name": "stdout",
          "text": [
            "[[ 6  8]\n",
            " [10 12]]\n"
          ]
        }
      ]
    }
  ]
}