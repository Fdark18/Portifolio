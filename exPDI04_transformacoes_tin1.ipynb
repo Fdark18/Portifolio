{
  "cells": [
    {
      "cell_type": "markdown",
      "metadata": {
        "id": "view-in-github",
        "colab_type": "text"
      },
      "source": [
        "<a href=\"https://colab.research.google.com/github/Fdark18/Portifolio/blob/main/exPDI04_transformacoes_tin1.ipynb\" target=\"_parent\"><img src=\"https://colab.research.google.com/assets/colab-badge.svg\" alt=\"Open In Colab\"/></a>"
      ]
    },
    {
      "cell_type": "markdown",
      "id": "507938ae-19b4-4f41-abf1-11d7492cc6c5",
      "metadata": {
        "id": "507938ae-19b4-4f41-abf1-11d7492cc6c5"
      },
      "source": [
        "<font size=\"6\"><center>Centro Universitário Facens</center></font><br/>\n",
        "\n",
        "<font size=\"4\"><center><b>Disciplina: Processamento de imagens</b></center></font>\n",
        "  \n",
        "<font size=\"3\"><center>Prof. Dr. Renato Moraes Silva</center></font>\n",
        "<br/>\n",
        "<br/>"
      ]
    },
    {
      "cell_type": "markdown",
      "id": "725aa4a7-347b-4f6f-a7b6-13f649cd8e38",
      "metadata": {
        "id": "725aa4a7-347b-4f6f-a7b6-13f649cd8e38"
      },
      "source": [
        "# Transformações geométricas\n",
        "\n",
        "Neste notebook, iremos fazer algumas operações envolvendo transformações geométricas.\n",
        "\n",
        "Primeiro, iremos importar as principais bibliotecas."
      ]
    },
    {
      "cell_type": "code",
      "execution_count": null,
      "id": "a49d144e-ea12-4b17-bb3a-f570b8b8224a",
      "metadata": {
        "id": "a49d144e-ea12-4b17-bb3a-f570b8b8224a"
      },
      "outputs": [],
      "source": [
        "import numpy as np\n",
        "import cv2\n",
        "import os\n",
        "import urllib.request\n",
        "import matplotlib.pyplot as plt"
      ]
    },
    {
      "cell_type": "markdown",
      "id": "58d080d0-4f94-48ec-9b1c-e8d68f361ebe",
      "metadata": {
        "id": "58d080d0-4f94-48ec-9b1c-e8d68f361ebe"
      },
      "source": [
        "Para testar esse método, crie uma imagem quadriculada em tons de cinza usando operações matriciais: imagem preta com listras horizontais e verticais brancas. Depois, adicione o nome \"Facens\" nessa imagens.\n",
        "\n",
        "É possível também inserir texto nas imagens usando a função **putText** que possui os seguintes parâmetros:\n",
        "- **img**: imagem\n",
        "- **text**: texto desejado\n",
        "- **org**: coordenadas no formato (x,y) onde o texto deve ser inserido\n",
        "- **fontFace**: o tipo de fonte. Exemplos: FONT_HERSHEY_SIMPLEX, FONT_HERSHEY_PLAIN, FONT_HERSHEY_DUPLEX, etc\n",
        "- **fontScale**: inteiro que indica a escala da fonte e é usado para aumentar ou diminuir a fonte\n",
        "- **color**: cor no formato BGR\n",
        "- **thickness** (opcional): espessura das linha\n",
        "- **lineType** (opcional): tipo de linha. Opções: FILLED, LINE_4, LINE_8, LINE_AA\n",
        "- **bottomLeftOrigin** (opcional): o valor False mantém o texto normal, enquanto que o True, inverte o texto"
      ]
    },
    {
      "cell_type": "code",
      "execution_count": null,
      "id": "8ef1c1dd-2917-49bd-aff6-eb651381c543",
      "metadata": {
        "id": "8ef1c1dd-2917-49bd-aff6-eb651381c543"
      },
      "outputs": [],
      "source": [
        "img = np.zeros([110,110], dtype=np.uint8)\n",
        "\n",
        "################# COMPLETE O CÓDIGO AQUI  #################\n",
        "\n",
        "\n",
        "\n",
        "\n",
        "\n",
        "\n",
        "\n",
        "##########################################################\n",
        "\n",
        "img = cv2.putText(img,text = \"Facens\", org = (20,20), fontFace = cv2.FONT_HERSHEY_SIMPLEX,\n",
        "                  fontScale = 0.8, color = [0,0,0], thickness = 2, lineType = cv2.LINE_AA)\n",
        "\n",
        "# plota a imagem vermelha\n",
        "plt.imshow(img, 'gray', vmin=0, vmax=255)\n",
        "plt.show()"
      ]
    },
    {
      "cell_type": "markdown",
      "id": "27ec413f-e07f-4a66-851c-d8abd1581294",
      "metadata": {
        "id": "27ec413f-e07f-4a66-851c-d8abd1581294"
      },
      "source": [
        "## Escalamento\n",
        "\n",
        "Para o escalamento, podemos usar a função **resize** que recebe os seguintes argumentos:\n",
        "- src: a imagem\n",
        "- dsize: tamanho desejado da nova imagem. Exemplo: (2,3), onde 2 é a largura e 3 é a altura\n",
        "- fx: fator de escala em relação ao eixo horizontal\n",
        "- fy: fator de escala em relação ao eixo vertical\n",
        "- interpolation: método de interpolação\n",
        "     - cv2.INTER_NEAREST: vizinho mais próximo\n",
        "     - cv2.INTER_LINEAR: interpolação bilinear\n",
        "     - cv2.INTER_CUBIC: interpolação bicúbica\n",
        "     \n",
        "Se você tentar redimensionar usando escala, defina o parâmetro **dsize** como nulo."
      ]
    },
    {
      "cell_type": "code",
      "execution_count": null,
      "id": "828f1686-8624-4bf7-b03f-af9d7e28b29b",
      "metadata": {
        "id": "828f1686-8624-4bf7-b03f-af9d7e28b29b"
      },
      "outputs": [],
      "source": [
        "################# COMPLETE O CÓDIGO AQUI  #################\n",
        "\n",
        "\n",
        "\n",
        "\n",
        "\n",
        "\n",
        "\n",
        "\n",
        "\n",
        "\n",
        "##########################################################\n",
        "\n",
        "plt.imshow(img2, 'gray', vmin=0, vmax=255)\n",
        "plt.show()\n",
        "\n",
        "plt.imshow(img3, 'gray', vmin=0, vmax=255)\n",
        "plt.show()\n",
        "\n",
        "plt.imshow(img4, 'gray', vmin=0, vmax=255)\n",
        "plt.show()\n",
        "\n",
        "plt.imshow(img6, 'gray', vmin=0, vmax=255)\n",
        "plt.show()"
      ]
    },
    {
      "cell_type": "markdown",
      "id": "a4db7538-1464-40e8-a0aa-86a04df6c7ca",
      "metadata": {
        "id": "a4db7538-1464-40e8-a0aa-86a04df6c7ca"
      },
      "source": [
        "As operações de escala, rotação, translação ou cisalhamento também podem ser feitas usando transformação afim.\n",
        "\n",
        "Para usar a transformação afim, use a função **warpAffine** da OpenCV. Por exemplo, a operação afim para escalamento é:\n",
        "\n",
        "$$\n",
        "\\begin{bmatrix}\n",
        "f \\\\\n",
        "g \\\\\n",
        "1 \\\\\n",
        "\\end{bmatrix} = %\n",
        "%\n",
        "\\begin{bmatrix}\n",
        "1/S_x & 0 & 0\\\\\n",
        "0 & 1/S_y & 0\\\\\n",
        "0 & 0 & 1\n",
        "\\end{bmatrix}\n",
        "%\n",
        "\\begin{bmatrix}\n",
        "u \\\\\n",
        "v \\\\\n",
        "1 \\\\\n",
        "\\end{bmatrix} %\n",
        "$$\n",
        "\n",
        "No entanto, na biblioteca OpenCV você deve usar a matriz apresentada abaixo, pois ela usa por padrão a **transformação afim direta**:\n",
        "\n",
        "$$\n",
        "\\begin{bmatrix}\n",
        "f \\\\\n",
        "g \\\\\n",
        "1 \\\\\n",
        "\\end{bmatrix} = %\n",
        "%\n",
        "\\begin{bmatrix}\n",
        "S_x & 0 & 0\\\\\n",
        "0 & S_y & 0\\\\\n",
        "0 & 0 & 1\n",
        "\\end{bmatrix}\n",
        "%\n",
        "\\begin{bmatrix}\n",
        "u \\\\\n",
        "v \\\\\n",
        "1 \\\\\n",
        "\\end{bmatrix} %\n",
        "$$\n",
        "\n",
        "Se você quiser descobrir a matriz afim de uma **transformação afim inversa** a partir da matriz da **transformação afim direta**, você precisa calcular a **matriz inversa** da **transformação afim direta**. A mesma lógica deve ser seguida se você quiser descobrir a matriz afim de uma **transformação afim direta** a partir da matriz da **transformação afim inversa**. No python, a inversa de uma matriz $m$ pode ser calculada por ``np.linalg.inv(m)``\n",
        "\n"
      ]
    },
    {
      "cell_type": "code",
      "execution_count": null,
      "id": "fa6cad46-6035-452b-a856-980166b925cc",
      "metadata": {
        "id": "fa6cad46-6035-452b-a856-980166b925cc"
      },
      "outputs": [],
      "source": [
        "################# COMPLETE O CÓDIGO AQUI  #################\n",
        "\n",
        "\n",
        "\n",
        "\n",
        "\n",
        "\n",
        "\n",
        "\n",
        "\n",
        "##########################################################"
      ]
    },
    {
      "cell_type": "markdown",
      "id": "882d984c-7d54-417f-8a23-350ae4c668c8",
      "metadata": {
        "id": "882d984c-7d54-417f-8a23-350ae4c668c8"
      },
      "source": [
        "Para usar a transformação afim, use a função **warpAffine**. Os principais parâmetros são:\n",
        "- src: imagem\n",
        "- M: matriz afim. Ela deve ter dimensão 2 x 3. Portanto, não deve ser adicionada a terceira linha da matriz afim tradicional.\n",
        "- dsize: tamanho da imagem de saída\n",
        "- flags:  método de interpolação\n",
        "     - cv2.INTER_NEAREST: vizinho mais próximo\n",
        "     - cv2.INTER_LINEAR: interpolação bilinear\n",
        "     - cv2.INTER_CUBIC: interpolação bicúbica\n",
        "    \n",
        "Caso você queira usar a mesma matriz afim usada no slide que é baseada na **transformação afim inversa**, você deve adicionar a flag **cv2.WARP_INVERSE_MAP** na função **warpAffine**.\n",
        "    \n",
        "Com base nas informações acima, use uma operação afim para fazer a escala da imagem feita anteriormente. Faça um escalamento que aumente a imagem e outro que diminua a imagem."
      ]
    },
    {
      "cell_type": "code",
      "execution_count": null,
      "id": "e6499528-40cb-4339-89cf-6371cbf5a7d7",
      "metadata": {
        "id": "e6499528-40cb-4339-89cf-6371cbf5a7d7"
      },
      "outputs": [],
      "source": [
        "################# COMPLETE O CÓDIGO AQUI  #################\n",
        "\n",
        "\n",
        "\n",
        "\n",
        "\n",
        "\n",
        "\n",
        "\n",
        "\n",
        "\n",
        "\n",
        "\n",
        "\n",
        "\n",
        "\n",
        "\n",
        "\n",
        "\n",
        "##########################################################\n",
        "\n",
        "# plota a imagem vermelha\n",
        "plt.imshow(imgMaior_direta, 'gray', vmin=0, vmax=255)\n",
        "plt.show()\n",
        "\n",
        "# plota a imagem vermelha\n",
        "plt.imshow(imgMaior_inversa, 'gray', vmin=0, vmax=255)\n",
        "plt.show()\n",
        "\n",
        "# plota a imagem vermelha\n",
        "plt.imshow(imgMenor_direta, 'gray', vmin=0, vmax=255)\n",
        "plt.show()\n",
        "\n",
        "# plota a imagem vermelha\n",
        "plt.imshow(imgMenor_inversa, 'gray', vmin=0, vmax=255)\n",
        "plt.show()"
      ]
    },
    {
      "cell_type": "markdown",
      "id": "2c9aaf2c-c35c-4bec-909a-44206348eaf0",
      "metadata": {
        "id": "2c9aaf2c-c35c-4bec-909a-44206348eaf0"
      },
      "source": [
        "## Translação\n",
        "\n",
        "As operações de escala, rotação, translação ou cisalhamento podem ser feitas usando transformação afim.\n",
        "\n",
        "Para usar a transformação afim, use a função **warpAffine**. Os principais parâmetros são:\n",
        "- src: imagem\n",
        "- M: matriz afim. Ela deve ter dimensão 2 x 3. Portanto, não deve ser adicionada a terceira linha da matriz afim tradicional.\n",
        "- dsize: tamanho da imagem de saída\n",
        "- flags:  método de interpolação\n",
        "     - cv2.INTER_NEAREST: vizinho mais próximo\n",
        "     - cv2.INTER_LINEAR: interpolação bilinear\n",
        "     - cv2.INTER_CUBIC: interpolação bicúbica\n",
        "\n",
        "Use uma operação afim para fazer a translação da imagem feita anteriormente.\n",
        "\n",
        "A operação afim para translação é:\n",
        "\n",
        "$$\n",
        "\\begin{bmatrix}\n",
        "f \\\\\n",
        "g \\\\\n",
        "1 \\\\\n",
        "\\end{bmatrix} = %\n",
        "%\n",
        "\\begin{bmatrix}\n",
        "1 & 0 & -d_x\\\\\n",
        "0 & 1 & -d_y\\\\\n",
        "0 & 0 & 1\n",
        "\\end{bmatrix}\n",
        "%\n",
        "\\begin{bmatrix}\n",
        "u \\\\\n",
        "v \\\\\n",
        "1 \\\\\n",
        "\\end{bmatrix} %\n",
        "$$\n",
        "\n",
        "No entanto, na biblioteca OpenCV, em vez de $-d_x$ e $-d_y$, você deve usar $d_x$ e $d_y$, pois ela usa por padrão a *transformação afim direta*. Caso você queira usar a mesma matriz afim usada no slide, deve setar adicionar a flag **cv2.WARP_INVERSE_MAP** na função **warpAffine**.\n",
        "\n",
        "$$\n",
        "\\begin{bmatrix}\n",
        "f \\\\\n",
        "g \\\\\n",
        "1 \\\\\n",
        "\\end{bmatrix} = %\n",
        "%\n",
        "\\begin{bmatrix}\n",
        "1 & 0 & d_x\\\\\n",
        "0 & 1 & d_y\\\\\n",
        "0 & 0 & 1\n",
        "\\end{bmatrix}\n",
        "%\n",
        "\\begin{bmatrix}\n",
        "u \\\\\n",
        "v \\\\\n",
        "1 \\\\\n",
        "\\end{bmatrix} %\n",
        "$$\n",
        "\n",
        "Se você quiser descobrir a matriz afim de uma transforma\n",
        "Dado que você conheça\n"
      ]
    },
    {
      "cell_type": "code",
      "execution_count": null,
      "id": "8317d002-0cd8-4e8f-a2de-4ba3b7e8aa05",
      "metadata": {
        "id": "8317d002-0cd8-4e8f-a2de-4ba3b7e8aa05"
      },
      "outputs": [],
      "source": [
        "################# COMPLETE O CÓDIGO AQUI  #################\n",
        "\n",
        "\n",
        "\n",
        "\n",
        "\n",
        "\n",
        "\n",
        "\n",
        "\n",
        "\n",
        "##########################################################\n",
        "\n",
        "plt.imshow(imgTranslacao, 'gray', vmin = 0, vmax = 255)\n",
        "plt.title('Translação')\n",
        "plt.show()\n",
        ""
      ]
    },
    {
      "cell_type": "markdown",
      "id": "0c2ee98b-3bfb-4a7c-ac74-df527253bfe7",
      "metadata": {
        "id": "0c2ee98b-3bfb-4a7c-ac74-df527253bfe7"
      },
      "source": [
        "## Cisalhamento\n",
        "\n",
        "Use uma operação afim para fazer o cisalhamento da imagem feita anteriormente.\n",
        "\n",
        "A operação afim para cisalhamento é:\n",
        "\n",
        "$$\n",
        "\\begin{bmatrix}\n",
        "f \\\\\n",
        "g \\\\\n",
        "1 \\\\\n",
        "\\end{bmatrix} = %\n",
        "%\n",
        "\\begin{bmatrix}\n",
        "1 & -c_v & 0\\\\\n",
        "-c_h & 1 & 0\\\\\n",
        "0 & 0 & 1\n",
        "\\end{bmatrix}\n",
        "%\n",
        "\\begin{bmatrix}\n",
        "u \\\\\n",
        "v \\\\\n",
        "1 \\\\\n",
        "\\end{bmatrix} %\n",
        "$$\n",
        "\n",
        "No entanto, na biblioteca OpenCV, em vez de $-c_v$ e $-c_h$, você deve usar $c_v$ e $c_h$. Além disso, deve trocá-los de lugar:\n",
        "\n",
        "$$\n",
        "\\begin{bmatrix}\n",
        "f \\\\\n",
        "g \\\\\n",
        "1 \\\\\n",
        "\\end{bmatrix} = %\n",
        "%\n",
        "\\begin{bmatrix}\n",
        "1 & c_h & 0\\\\\n",
        "c_v & 1 & 0\\\\\n",
        "0 & 0 & 1\n",
        "\\end{bmatrix}\n",
        "%\n",
        "\\begin{bmatrix}\n",
        "u \\\\\n",
        "v \\\\\n",
        "1 \\\\\n",
        "\\end{bmatrix} %\n",
        "$$\n"
      ]
    },
    {
      "cell_type": "code",
      "execution_count": null,
      "id": "ef51f388-63a4-490d-b976-e753acb8b7f4",
      "metadata": {
        "id": "ef51f388-63a4-490d-b976-e753acb8b7f4"
      },
      "outputs": [],
      "source": [
        "################# COMPLETE O CÓDIGO AQUI  #################\n",
        "\n",
        "\n",
        "\n",
        "\n",
        "\n",
        "\n",
        "\n",
        "\n",
        "\n",
        "\n",
        "\n",
        "\n",
        "\n",
        "\n",
        "\n",
        "##########################################################\n",
        "\n",
        "plt.imshow(imgCisalhamento, 'gray', vmin = 0, vmax = 255)\n",
        "plt.title('Cisalhamento')\n",
        "plt.show()\n",
        ""
      ]
    },
    {
      "cell_type": "markdown",
      "id": "0e362d8b-0d09-4e29-9d65-4e39c20ebc97",
      "metadata": {
        "id": "0e362d8b-0d09-4e29-9d65-4e39c20ebc97"
      },
      "source": [
        "# Rotação\n",
        "\n",
        "Use uma operação afim para fazer a rotação da imagem feita anteriormente.\n",
        "\n",
        "A operação afim para rotação é:\n",
        "\n",
        "$$\n",
        "\\begin{bmatrix}\n",
        "f \\\\\n",
        "g \\\\\n",
        "1 \\\\\n",
        "\\end{bmatrix} = %\n",
        "%\n",
        "\\begin{bmatrix}\n",
        "\\cos(\\theta) & -\\sin(\\theta) & 0\\\\\n",
        "\\sin(\\theta) & \\cos(\\theta) & 0\\\\\n",
        "0 & 0 & 1\n",
        "\\end{bmatrix}\n",
        "%\n",
        "\\begin{bmatrix}\n",
        "u \\\\\n",
        "v \\\\\n",
        "1 \\\\\n",
        "\\end{bmatrix} %\n",
        "$$\n",
        "\n",
        "- O ângulo $\\theta$ controla o quanto a imagem será girada.\n",
        "\n",
        "    + Em uma rotação positiva, a imagem gira no sentido anti-horário\n",
        "    + Em uma rotação negativa, a imagem gira no sentido horário.\n",
        "    \n",
        "- O valor de $\\theta$ é expresso em radianos.\n",
        "\n",
        "$$\\text{ângulo em radianos}=\\text{ângulo em graus}×\\frac{\\pi}{180}$$"
      ]
    },
    {
      "cell_type": "code",
      "execution_count": null,
      "id": "d2ec4013-a5d5-447f-81a6-6f514edc18e2",
      "metadata": {
        "id": "d2ec4013-a5d5-447f-81a6-6f514edc18e2"
      },
      "outputs": [],
      "source": [
        "def rotacao_inversa(img, theta):\n",
        "\n",
        "    ################# COMPLETE O CÓDIGO AQUI  #################\n",
        "\n",
        "\n",
        "\n",
        "\n",
        "\n",
        "\n",
        "\n",
        "\n",
        "\n",
        "\n",
        "\n",
        "    ##########################################################\n",
        "\n",
        "    return newImg\n",
        "\n",
        "degree = -45\n",
        "radian = degree*(np.pi/180)\n",
        "print(\"Ângulo em radianos: \", radian)\n",
        "\n",
        "imgRotacao = rotacao_inversa(img, radian)\n",
        "\n",
        "plt.imshow(imgRotacao, 'gray', vmin = 0, vmax = 255)\n",
        "plt.title('Rotação')\n",
        "plt.show()\n",
        ""
      ]
    },
    {
      "cell_type": "markdown",
      "id": "eacc512c-a73f-43fb-9de7-c94dc2fd2697",
      "metadata": {
        "id": "eacc512c-a73f-43fb-9de7-c94dc2fd2697"
      },
      "source": [
        "É difícil calcular a matriz afim para fazer a rotação em relação a um determinado ponto. Por exemplo, é muito comum que seja necessário fazer rotação em relação ao centro da imagem.\n",
        "\n",
        "Para obter uma matriz afim para fazer a rotação em relação a um determinado ponto, use a função **getRotationMatrix2D** que possui os seguintes parâmetros:\n",
        "- center: o ponto que será usado como centro da rotação\n",
        "- angle: ângulo da rotação (em graus, em vez de radianos)\n",
        "- scale: fator de escalamento\n",
        "\n",
        "Depois de obter a matriz afim, use ela como argumento de entrada para a função **warpAffine**."
      ]
    },
    {
      "cell_type": "code",
      "execution_count": null,
      "id": "57aa5dd4-e7b4-4fb7-8264-63d4f3553b66",
      "metadata": {
        "id": "57aa5dd4-e7b4-4fb7-8264-63d4f3553b66"
      },
      "outputs": [],
      "source": [
        "def rotacao_centro(img, angle):\n",
        "\n",
        "    ################# COMPLETE O CÓDIGO AQUI  #################\n",
        "\n",
        "\n",
        "\n",
        "\n",
        "\n",
        "\n",
        "\n",
        "\n",
        "\n",
        "\n",
        "\n",
        "\n",
        "\n",
        "    ##########################################################\n",
        "\n",
        "    return imgRotacao\n",
        "\n",
        "imgRotacao = rotacao_centro(img, 45)\n",
        "\n",
        "plt.imshow(imgRotacao, 'gray', vmin = 0, vmax = 255)\n",
        "plt.title('Rotação ao centro')\n",
        "plt.show()"
      ]
    },
    {
      "cell_type": "markdown",
      "id": "989df5f4-08c3-4667-8da9-2d9e2003b647",
      "metadata": {
        "id": "989df5f4-08c3-4667-8da9-2d9e2003b647"
      },
      "source": [
        "# Combinando operações\n",
        "\n",
        "Vamos combinar escala, uma rotação e uma translação. Para combinar estas transformações em uma única matriz afim, multiplicamos as matrizes de transformação na ordem inversa da aplicação desejada. Então, se quisermos primeiro escalar, depois rotacionar, e por fim transladar, a combinação seria:\n",
        "\n",
        "$$M=\\text{translação} \\cdot \\text{rotação} \\cdot \\text{escala}$$"
      ]
    },
    {
      "cell_type": "code",
      "execution_count": null,
      "id": "89e6d48b-e9af-4267-9355-31833858eefc",
      "metadata": {
        "id": "89e6d48b-e9af-4267-9355-31833858eefc"
      },
      "outputs": [],
      "source": [
        "sx = 0.8\n",
        "sy = 0.8\n",
        "afim_escala = np.array([[1/sx,0,0],\n",
        "                        [0,1/sy,0],\n",
        "                        [0,0,1]], dtype=float)\n",
        "\n",
        "degree = -45\n",
        "theta = degree*(np.pi/180)\n",
        "afim_rotacao = np.array([[np.cos(theta),-np.sin(theta),0],\n",
        "                         [np.sin(theta),np.cos(theta),0],\n",
        "                         [0            ,0            ,1]], dtype=float)\n",
        "\n",
        "dx = 10\n",
        "dy = 20\n",
        "afim_traslacao = np.array([[1,0,-dx],\n",
        "                           [0,1,-dy],\n",
        "                           [0,0,1]], dtype=float)\n",
        "\n",
        "\n",
        "################# COMPLETE O CÓDIGO AQUI  #################\n",
        "\n",
        "\n",
        "\n",
        "\n",
        "\n",
        "\n",
        "\n",
        "\n",
        "\n",
        "\n",
        "\n",
        "##########################################################\n",
        "\n",
        "plt.imshow(newImg, 'gray', vmin = 0, vmax = 255)\n",
        "plt.title('Combinando operações')\n",
        "plt.show()"
      ]
    },
    {
      "cell_type": "markdown",
      "id": "829ae48c-0202-4f67-82ff-02ddf148ff69",
      "metadata": {
        "id": "829ae48c-0202-4f67-82ff-02ddf148ff69"
      },
      "source": [
        "# Espelhamento\n",
        "\n",
        "Além das operações principais, uma matriz afim também pode ser usada para outras operações, como o espelhamento."
      ]
    },
    {
      "cell_type": "code",
      "execution_count": null,
      "id": "4b11a609-2539-4617-8c6c-e152498d0d9d",
      "metadata": {
        "id": "4b11a609-2539-4617-8c6c-e152498d0d9d"
      },
      "outputs": [],
      "source": [
        "def espelhamentoVertical(img):\n",
        "\n",
        "    ################# COMPLETE O CÓDIGO AQUI  #################\n",
        "\n",
        "\n",
        "\n",
        "\n",
        "\n",
        "\n",
        "\n",
        "\n",
        "\n",
        "\n",
        "\n",
        "    ##########################################################\n",
        "\n",
        "    return newImg\n",
        "\n",
        "def espelhamentoHorizontal(img):\n",
        "\n",
        "    ################# COMPLETE O CÓDIGO AQUI  #################\n",
        "\n",
        "\n",
        "\n",
        "\n",
        "\n",
        "\n",
        "\n",
        "\n",
        "\n",
        "\n",
        "\n",
        "\n",
        "\n",
        "\n",
        "    ##########################################################\n",
        "\n",
        "    return newImg\n",
        "\n",
        "imgEspVertical = espelhamentoVertical(img)\n",
        "imgEspHorizontal = espelhamentoHorizontal(img)\n",
        "\n",
        "plt.imshow(imgEspVertical, 'gray', vmin = 0, vmax = 255)\n",
        "plt.title('Espelhamento vertical')\n",
        "plt.show()\n",
        "\n",
        "plt.imshow(imgEspHorizontal, 'gray', vmin = 0, vmax = 255)\n",
        "plt.title('Espelhamento horizontal')\n",
        "plt.show()\n",
        ""
      ]
    }
  ],
  "metadata": {
    "kernelspec": {
      "display_name": "Python 3 (ipykernel)",
      "language": "python",
      "name": "python3"
    },
    "language_info": {
      "codemirror_mode": {
        "name": "ipython",
        "version": 3
      },
      "file_extension": ".py",
      "mimetype": "text/x-python",
      "name": "python",
      "nbconvert_exporter": "python",
      "pygments_lexer": "ipython3",
      "version": "3.10.9"
    },
    "colab": {
      "provenance": [],
      "include_colab_link": true
    }
  },
  "nbformat": 4,
  "nbformat_minor": 5
}