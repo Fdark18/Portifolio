{
  "nbformat": 4,
  "nbformat_minor": 0,
  "metadata": {
    "colab": {
      "provenance": [],
      "mount_file_id": "1vuGR5dkYIf8CVGDcHcJy3c7b4yfUXOdd",
      "authorship_tag": "ABX9TyO51qE3tBMfKRuMWWz6gfWe",
      "include_colab_link": true
    },
    "kernelspec": {
      "name": "python3",
      "display_name": "Python 3"
    },
    "language_info": {
      "name": "python"
    }
  },
  "cells": [
    {
      "cell_type": "markdown",
      "metadata": {
        "id": "view-in-github",
        "colab_type": "text"
      },
      "source": [
        "<a href=\"https://colab.research.google.com/github/Fdark18/Portifolio/blob/main/Aprender_indexa%C3%A7%C3%A3o_e_fatiamento_(slicing)_de_matrizes_no_Python.ipynb\" target=\"_parent\"><img src=\"https://colab.research.google.com/assets/colab-badge.svg\" alt=\"Open In Colab\"/></a>"
      ]
    },
    {
      "cell_type": "markdown",
      "source": [],
      "metadata": {
        "id": "rnUF2O0vdFQX"
      }
    },
    {
      "cell_type": "markdown",
      "source": [
        "Aprender indexação e fatiamento (slicing) de matrizes no Python"
      ],
      "metadata": {
        "id": "0EpFtnw6dHNy"
      }
    },
    {
      "cell_type": "code",
      "execution_count": null,
      "metadata": {
        "colab": {
          "base_uri": "https://localhost:8080/"
        },
        "id": "bSES7Ai1dELy",
        "outputId": "1d1ca54b-cc72-490f-d1b8-3e6bedd4c591"
      },
      "outputs": [
        {
          "output_type": "execute_result",
          "data": {
            "text/plain": [
              "1"
            ]
          },
          "metadata": {},
          "execution_count": 17
        }
      ],
      "source": [
        "q = [1,2,3,4,5,6,7]\n",
        "q[1]\n",
        "q[0]"
      ]
    },
    {
      "cell_type": "code",
      "source": [
        "q[0:4]"
      ],
      "metadata": {
        "colab": {
          "base_uri": "https://localhost:8080/"
        },
        "id": "b_1EGnb8d2QB",
        "outputId": "c379d63e-694d-471c-c05a-9ebde0e99c8e"
      },
      "execution_count": null,
      "outputs": [
        {
          "output_type": "execute_result",
          "data": {
            "text/plain": [
              "[1, 2, 3, 4]"
            ]
          },
          "metadata": {},
          "execution_count": 18
        }
      ]
    },
    {
      "cell_type": "code",
      "source": [
        "q[0:4] + q[4:]"
      ],
      "metadata": {
        "colab": {
          "base_uri": "https://localhost:8080/"
        },
        "id": "VtCfX6nteKsb",
        "outputId": "fa9d6f2a-d942-4afe-9bb4-ee3f9abcb85a"
      },
      "execution_count": null,
      "outputs": [
        {
          "output_type": "execute_result",
          "data": {
            "text/plain": [
              "[1, 2, 3, 4, 5, 6, 7]"
            ]
          },
          "metadata": {},
          "execution_count": 19
        }
      ]
    },
    {
      "cell_type": "code",
      "source": [
        "q[:] #omitir os dois começos fazendo com que seja imprimido a lista completa"
      ],
      "metadata": {
        "colab": {
          "base_uri": "https://localhost:8080/"
        },
        "id": "-KOKYF7-eufW",
        "outputId": "b49e519e-73c3-4672-df29-58f061e2d6f9"
      },
      "execution_count": null,
      "outputs": [
        {
          "output_type": "execute_result",
          "data": {
            "text/plain": [
              "[1, 2, 3, 4, 5, 6, 7]"
            ]
          },
          "metadata": {},
          "execution_count": 20
        }
      ]
    },
    {
      "cell_type": "code",
      "source": [
        "a = q[1:].copy() #copidando alista para uma nova variavel\n",
        "a[:]"
      ],
      "metadata": {
        "colab": {
          "base_uri": "https://localhost:8080/"
        },
        "id": "fMM4dxkLe8qv",
        "outputId": "ac4f63c7-ddd9-48c6-94f1-a81426246c4e"
      },
      "execution_count": null,
      "outputs": [
        {
          "output_type": "execute_result",
          "data": {
            "text/plain": [
              "[2, 3, 4, 5, 6, 7]"
            ]
          },
          "metadata": {},
          "execution_count": 21
        }
      ]
    },
    {
      "cell_type": "code",
      "source": [
        "a[::2] # Imprimir a lista inteira e os 2 dois ponto(:: 2) quer dizer de quantos deve pular pra imprimir\n",
        "        #no  caso numa lista de [1,2,3,4,5,6,7] imprimira 2,4,6\n"
      ],
      "metadata": {
        "colab": {
          "base_uri": "https://localhost:8080/"
        },
        "id": "fyiocCd_f6kA",
        "outputId": "9cd8a8d3-eead-4021-9c21-4ae4ab91b726"
      },
      "execution_count": null,
      "outputs": [
        {
          "output_type": "execute_result",
          "data": {
            "text/plain": [
              "[2, 4, 6]"
            ]
          },
          "metadata": {},
          "execution_count": 24
        }
      ]
    },
    {
      "cell_type": "markdown",
      "source": [
        "# Para reverter a orndem\n"
      ],
      "metadata": {
        "id": "KFoTHMXjhKRl"
      }
    },
    {
      "cell_type": "code",
      "source": [
        "a[::-1]\n"
      ],
      "metadata": {
        "colab": {
          "base_uri": "https://localhost:8080/"
        },
        "id": "cpx_Qr3yhPuB",
        "outputId": "66d2eee5-d933-424c-97dc-f03850be0278"
      },
      "execution_count": null,
      "outputs": [
        {
          "output_type": "execute_result",
          "data": {
            "text/plain": [
              "[7, 6, 5, 4, 3, 2]"
            ]
          },
          "metadata": {},
          "execution_count": 25
        }
      ]
    },
    {
      "cell_type": "markdown",
      "source": [
        "# **ou**"
      ],
      "metadata": {
        "id": "wl-AjYkThYOM"
      }
    },
    {
      "cell_type": "code",
      "source": [
        "# Para reverter um string\n",
        "'1,2,3,4,5' [::-1]"
      ],
      "metadata": {
        "colab": {
          "base_uri": "https://localhost:8080/",
          "height": 35
        },
        "id": "-0LyTALAhaBz",
        "outputId": "4aa7995d-39c1-4f78-a5c9-385b24c39b40"
      },
      "execution_count": null,
      "outputs": [
        {
          "output_type": "execute_result",
          "data": {
            "text/plain": [
              "'5,4,3,2,1'"
            ],
            "application/vnd.google.colaboratory.intrinsic+json": {
              "type": "string"
            }
          },
          "metadata": {},
          "execution_count": 26
        }
      ]
    },
    {
      "cell_type": "code",
      "source": [
        "dias_semana = [\"segunda\", \"terça\", \"quarta\", \"quinta\", \"sexta\", \"sábado\", \"domingo\"]\n",
        "ultimos_tres_dias = dias_semana[-3:]\n",
        "print(ultimos_tres_dias)  # Saída: [\"sexta, sábado\", \"domingo\"]\n"
      ],
      "metadata": {
        "colab": {
          "base_uri": "https://localhost:8080/"
        },
        "id": "frmbCrUVlVxA",
        "outputId": "d0854b1c-4678-4306-cd49-535c2f326d93"
      },
      "execution_count": null,
      "outputs": [
        {
          "output_type": "stream",
          "name": "stdout",
          "text": [
            "['sexta', 'sábado', 'domingo']\n"
          ]
        }
      ]
    },
    {
      "cell_type": "markdown",
      "source": [
        "** [4 5 6]]\n",
        "O fatiamento também pode incluir reticências (…) para fazer uma tupla de seleção do mesmo comprimento que a dimensão de uma matriz. Se reticências forem usadas na posição da linha, ele retornará um ndarray composto de itens nas linhas.**"
      ],
      "metadata": {
        "id": "zJF1d0XSmI0x"
      }
    },
    {
      "cell_type": "code",
      "source": [
        "# Iniciando uma matriz\n",
        "import numpy as np\n",
        "a = np.array([[1,2,3],[4,5,6],[6,7,8]])"
      ],
      "metadata": {
        "id": "em2Yx0dJmLoY"
      },
      "execution_count": null,
      "outputs": []
    },
    {
      "cell_type": "code",
      "source": [
        "print ('Nossa matrix é:')\n",
        "print (a)"
      ],
      "metadata": {
        "colab": {
          "base_uri": "https://localhost:8080/"
        },
        "id": "DYrUv3UHnELH",
        "outputId": "471fa082-13db-4883-a79d-aa8f374d4bf5"
      },
      "execution_count": null,
      "outputs": [
        {
          "output_type": "stream",
          "name": "stdout",
          "text": [
            "Nossa matrix é:\n",
            "[[1 2 3]\n",
            " [4 5 6]\n",
            " [6 7 8]]\n"
          ]
        }
      ]
    },
    {
      "cell_type": "code",
      "source": [
        "# Este retornará uma matriz de intens da segunda coluna\n",
        "print (\"Os itens da segunda coluna são:\")\n",
        "print(a[...,1])"
      ],
      "metadata": {
        "colab": {
          "base_uri": "https://localhost:8080/"
        },
        "id": "idK9MqnJoEJH",
        "outputId": "92c96984-7f4f-4530-dd3a-fc2c485ed9f3"
      },
      "execution_count": null,
      "outputs": [
        {
          "output_type": "stream",
          "name": "stdout",
          "text": [
            "Os itens da segunda coluna são:\n",
            "[2 5 7]\n"
          ]
        }
      ]
    },
    {
      "cell_type": "code",
      "source": [
        "# Agora iremos fatiar  todos os itens da segunda linha\n",
        "print('Os itens da segunda linha são:')\n",
        "print (a[1,...])\n"
      ],
      "metadata": {
        "colab": {
          "base_uri": "https://localhost:8080/"
        },
        "id": "g3VKjFO2pBmx",
        "outputId": "78534da7-8f6f-4ec3-f809-4347c5f51483"
      },
      "execution_count": null,
      "outputs": [
        {
          "output_type": "stream",
          "name": "stdout",
          "text": [
            "Os itens da segunda linha são:\n",
            "[4 5 6]\n"
          ]
        }
      ]
    },
    {
      "cell_type": "code",
      "source": [
        "# Agora iremos fatiar todos os itens da coluna 1 adiante\n",
        "print('Os itens da coluna 1 em diante são:')\n",
        "print(a[...,1:])"
      ],
      "metadata": {
        "colab": {
          "base_uri": "https://localhost:8080/"
        },
        "id": "k1qD20cjprF0",
        "outputId": "f4652fb2-2143-4d9a-f8cf-f09f6314d326"
      },
      "execution_count": null,
      "outputs": [
        {
          "output_type": "stream",
          "name": "stdout",
          "text": [
            "Os itens da coluna 1 em diante são:\n",
            "[[2 3]\n",
            " [5 6]\n",
            " [7 8]]\n"
          ]
        }
      ]
    },
    {
      "cell_type": "markdown",
      "source": [
        "# **iNDETIFICAR SE UMA PALAVRA É PALINDROMO**"
      ],
      "metadata": {
        "id": "JMVc_KXzqZsk"
      }
    },
    {
      "cell_type": "code",
      "source": [
        "\n",
        "palavra = 'radar'\n",
        "if palavra == palavra[::-1]: # Verificando se palavra é igual palavra de trás para frente.\n",
        "  print('Palindromo!')\n",
        "else:\n",
        "  print('Não é palindromo!')\n"
      ],
      "metadata": {
        "colab": {
          "base_uri": "https://localhost:8080/"
        },
        "id": "oLSVmKEUqhFR",
        "outputId": "f085f0dc-7964-4281-874c-f43d45629da8"
      },
      "execution_count": null,
      "outputs": [
        {
          "output_type": "stream",
          "name": "stdout",
          "text": [
            "Não é palindromo!\n"
          ]
        }
      ]
    }
  ]
}