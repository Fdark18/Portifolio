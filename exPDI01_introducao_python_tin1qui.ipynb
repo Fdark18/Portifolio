{
  "cells": [
    {
      "cell_type": "markdown",
      "metadata": {
        "id": "view-in-github",
        "colab_type": "text"
      },
      "source": [
        "<a href=\"https://colab.research.google.com/github/Fdark18/Portifolio/blob/main/exPDI01_introducao_python_tin1qui.ipynb\" target=\"_parent\"><img src=\"https://colab.research.google.com/assets/colab-badge.svg\" alt=\"Open In Colab\"/></a>"
      ]
    },
    {
      "cell_type": "markdown",
      "metadata": {
        "id": "NVimVPoguQew"
      },
      "source": [
        "# <center>Centro Universitário Facens<br/></center>\n",
        "<br/>\n",
        "<font size=\"4\"><center><b>Disciplina: Processamento de Imagens</b></center></font>\n",
        "  \n",
        "<font size=\"3\"><center>Prof. Dr. Renato Moraes Silva</center></font>\n",
        "<br/>"
      ]
    },
    {
      "cell_type": "markdown",
      "metadata": {
        "id": "trIVmqQSuQey"
      },
      "source": [
        "# <center>Exercício - Introdução ao Python</center>\n",
        "\n",
        "Neste exercício, são apresentados alguns recursos básicos do Python que geralmente são necessários nos projetos de Processamento de Imagens.\n",
        "\n",
        "### Objetivos de aprendizagem\n",
        "- Entender como criar vetores e matrizes no Python\n",
        "- Aprender indexação e fatiamento (*slicing*) de matrizes no Python\n",
        "- Aprender a executar operações matriciais e obter estatísticas\n",
        "- Conhecer a relação entre matriz e imagem"
      ]
    },
    {
      "cell_type": "markdown",
      "metadata": {
        "id": "mDu7PD_MuQez"
      },
      "source": [
        "# Numpy - vetores e matrizes\n",
        "\n",
        "A biblioteca `numpy` do python permite a criação, manipulações e operações matemáticas de vetores e matrizes.\n",
        "\n",
        "Primeiro, você deve importar a biblioteca, antes de usar suas funções."
      ]
    },
    {
      "cell_type": "code",
      "execution_count": null,
      "metadata": {
        "scrolled": true,
        "id": "ReCCrN7ouQez"
      },
      "outputs": [],
      "source": [
        "import numpy as np"
      ]
    },
    {
      "cell_type": "markdown",
      "metadata": {
        "id": "LcF0YHSAuQe0"
      },
      "source": [
        "## Criando vetores e matrizes\n",
        "\n",
        "Criando um vetor com os seguintes valores $[1,2,3,4,5]$."
      ]
    },
    {
      "cell_type": "code",
      "execution_count": null,
      "metadata": {
        "id": "pDILEhyEuQe0",
        "outputId": "20013a82-e92d-441f-e2e2-41202f99c7d3"
      },
      "outputs": [
        {
          "name": "stdout",
          "output_type": "stream",
          "text": [
            "[1 2 3 4 5]\n"
          ]
        },
        {
          "data": {
            "text/plain": [
              "array([1, 2, 3, 4, 5])"
            ]
          },
          "metadata": {},
          "output_type": "display_data"
        }
      ],
      "source": [
        "vet1 = np.array([1,2,3,4,5])\n",
        "\n",
        "print(vet1)\n",
        "\n",
        "display(vet1)"
      ]
    },
    {
      "cell_type": "markdown",
      "metadata": {
        "id": "U6FKE_KKuQe1"
      },
      "source": [
        "Podemos criar um vetor de elementos sequenciais usando a função `arange` do `numpy`. Por exemplo, vamos criar um vetor com valores de 0 até 7."
      ]
    },
    {
      "cell_type": "code",
      "execution_count": null,
      "metadata": {
        "id": "weqlilChuQe1",
        "outputId": "8bd275bb-91bf-42c5-ab71-f1ff02c8fc96"
      },
      "outputs": [
        {
          "name": "stdout",
          "output_type": "stream",
          "text": [
            "[0 1 2 3 4 5 6]\n"
          ]
        }
      ],
      "source": [
        "vet2 = np.arange(7)\n",
        "\n",
        "print(vet2)"
      ]
    },
    {
      "cell_type": "markdown",
      "metadata": {
        "id": "k_YyasvguQe1"
      },
      "source": [
        "Agora, vamos criar um vetor de elementos sequenciais de 5 até 10."
      ]
    },
    {
      "cell_type": "code",
      "execution_count": null,
      "metadata": {
        "id": "22MgNuxKuQe2",
        "outputId": "20d38bfb-3593-4d34-937c-272c4b6d67a3"
      },
      "outputs": [
        {
          "name": "stdout",
          "output_type": "stream",
          "text": [
            "[5 6 7 8 9]\n"
          ]
        }
      ],
      "source": [
        "vet3 = np.arange(5,10)\n",
        "print(vet3)"
      ]
    },
    {
      "cell_type": "markdown",
      "metadata": {
        "id": "lvRLUuikuQe2"
      },
      "source": [
        "Nós podemos também criar um vetor sequencial variando de 2 em 2 ou com outros intervalos."
      ]
    },
    {
      "cell_type": "code",
      "execution_count": null,
      "metadata": {
        "id": "fkDCGlNCuQe2",
        "outputId": "46b46481-36c6-4f48-ce14-3f1dd61145a4"
      },
      "outputs": [
        {
          "name": "stdout",
          "output_type": "stream",
          "text": [
            "[ 5  7  9 11 13 15 17 19 21 23 25 27 29 31 33 35 37 39 41 43 45 47 49 51]\n"
          ]
        }
      ],
      "source": [
        "vet4 = np.arange(5,52,2)\n",
        "print(vet4)"
      ]
    },
    {
      "cell_type": "markdown",
      "metadata": {
        "id": "TZPUIGJuuQe2"
      },
      "source": [
        "Vetores sequenciais podem ser usados em laços de repetição. Por exemplo, vamos imprimir todos os valores entre 2 e 10 usando um laço de repetição `for`."
      ]
    },
    {
      "cell_type": "code",
      "execution_count": null,
      "metadata": {
        "id": "3WmeeFSOuQe2",
        "outputId": "1cc490e0-ce0d-431c-d519-0f3e9580bfe0"
      },
      "outputs": [
        {
          "name": "stdout",
          "output_type": "stream",
          "text": [
            "2\n",
            "42\n",
            "82\n"
          ]
        }
      ],
      "source": [
        "for i in np.arange(2,100,40):\n",
        "    print(i)"
      ]
    },
    {
      "cell_type": "markdown",
      "metadata": {
        "id": "IXUuSOQXuQe2"
      },
      "source": [
        "Nós também podemos criar um vetor com $n$-zeros ou $n$-uns."
      ]
    },
    {
      "cell_type": "code",
      "execution_count": null,
      "metadata": {
        "id": "85MCqEZ0uQe3",
        "outputId": "496ded61-3feb-48af-d9e5-8b09890079cf"
      },
      "outputs": [
        {
          "name": "stdout",
          "output_type": "stream",
          "text": [
            "[0. 0. 0. 0. 0. 0. 0. 0. 0. 0.]\n",
            "[1. 1. 1. 1. 1. 1. 1. 1. 1. 1.]\n"
          ]
        }
      ],
      "source": [
        "vec5 = np.zeros(10)\n",
        "vec6 = np.ones(10)\n",
        "\n",
        "print(vec5)\n",
        "print(vec6)"
      ]
    },
    {
      "cell_type": "markdown",
      "metadata": {
        "id": "6dVE68pruQe3"
      },
      "source": [
        "Criando uma matriz com os valores: $\n",
        "  \\begin{bmatrix}\n",
        "    0 & 0 & 0 & 0 & 0\\\\\n",
        "    0 & 250 & 0 & 255 & 0\\\\\n",
        "    0 & 0 & 0 & 0 & 0\\\\\n",
        "    0 & 255 & 240 & 245 & 0\\\\\n",
        "    0 & 0 & 0 & 0 & 0 \\\\\n",
        "  \\end{bmatrix}$"
      ]
    },
    {
      "cell_type": "code",
      "execution_count": null,
      "metadata": {
        "id": "mfUvtIC-uQe3",
        "outputId": "e3e85c44-9c16-4df5-d855-986611e51552"
      },
      "outputs": [
        {
          "name": "stdout",
          "output_type": "stream",
          "text": [
            "[[  0   0   0   0   0]\n",
            " [  0 250   0 255   0]\n",
            " [  0   0   0   0   0]\n",
            " [  0 255  70 245   0]\n",
            " [  0   0   0   0   0]]\n"
          ]
        }
      ],
      "source": [
        "mat1 = np.array([\n",
        "                [0,0  ,0  ,0  ,0],\n",
        "                [0,250,0  ,255,0],\n",
        "                [0,0  ,0  ,0  ,0],\n",
        "                [0,255,70,245,0],\n",
        "                [0,0  ,0  ,0  ,0]\n",
        "                ])\n",
        "print(mat1)"
      ]
    },
    {
      "cell_type": "markdown",
      "metadata": {
        "id": "9YWKnkvBuQe3"
      },
      "source": [
        "Uma matriz é também uma imagem. Portanto, pode plotar a imagem gerada pela matriz acima. Para isso, você pode usar a função *imshow* da biblioteca biblioteca ```matplotlib.pyplot```.\n",
        "\n",
        "Quando queremos que a imagem seja plotada em tons de cinza, é necessário passar o argumento 'gray' para o método *imshow*, além de informar o maior (*vmax*) e o menor (*vmin*) valor da escala de cinza. Por exemplo, considerando que a imagem tenha 16 tons de cinza, *vmax* deve ser setado com 15, enquanto *vmin* com 0. Se nenhum valor for passado, o método considera o maior e o menor tom de cinza automaticamente, com base nos pixels da imagem de entrada.\n",
        "\n",
        "Obs.: converta a imagem para o tipo ```uint8``` usando a função ```astype```."
      ]
    },
    {
      "cell_type": "code",
      "execution_count": null,
      "metadata": {
        "id": "URzsy9HXuQe3",
        "outputId": "5172e804-9e3b-4671-8967-b7db661a5320"
      },
      "outputs": [
        {
          "data": {
            "image/png": "[encoded data removed]",
            "text/plain": [
              "<Figure size 640x480 with 1 Axes>"
            ]
          },
          "metadata": {},
          "output_type": "display_data"
        }
      ],
      "source": [
        "import matplotlib.pyplot as plt\n",
        "\n",
        "# converte para int de 8 bits\n",
        "mat1 = mat1.astype(np.uint8)\n",
        "\n",
        "plt.imshow(mat1, 'gray', vmin=0, vmax=255)\n",
        "plt.show()"
      ]
    },
    {
      "cell_type": "markdown",
      "metadata": {
        "id": "wzCEBY-QuQe3"
      },
      "source": [
        "Caso você queira gerar uma imagem colorida, você deve criar uma matriz onde o valor de cada linha e coluna é um vetor de três dimensões cujos valores podem variar entre 0 e 255.\n",
        "\n",
        "Obs.: Defina a imagem com o tipo ```uint8```."
      ]
    },
    {
      "cell_type": "code",
      "execution_count": null,
      "metadata": {
        "id": "wC6RsFuJuQe3",
        "outputId": "ccc9b4a2-a3c6-4de6-f70e-38c3e09c9c42"
      },
      "outputs": [
        {
          "data": {
            "image/png": "[encoded data removed]",
            "text/plain": [
              "<Figure size 640x480 with 1 Axes>"
            ]
          },
          "metadata": {},
          "output_type": "display_data"
        }
      ],
      "source": [
        "mat2 = np.array([\n",
        "                [[90,150,255],  [0,255,0],  [255,0,0]],\n",
        "                [[0,255,255],[255,255,0],[255,0,255]],\n",
        "                ], dtype = np.uint8)\n",
        "\n",
        "plt.imshow(mat2)\n",
        "plt.show()"
      ]
    },
    {
      "cell_type": "markdown",
      "metadata": {
        "id": "2AfddKrQuQe4"
      },
      "source": [
        "Nós também podemos criar uma matriz de valores zero e uma matriz de valores um:"
      ]
    },
    {
      "cell_type": "code",
      "execution_count": null,
      "metadata": {
        "id": "if9Y8gH7uQe4",
        "outputId": "dd0d30e6-0bee-4efc-9d88-8fe128710985"
      },
      "outputs": [
        {
          "name": "stdout",
          "output_type": "stream",
          "text": [
            "[[0. 0. 0. 0.]\n",
            " [0. 0. 0. 0.]\n",
            " [0. 0. 0. 0.]]\n",
            "[[1. 1. 1. 1. 1. 1.]\n",
            " [1. 1. 1. 1. 1. 1.]\n",
            " [1. 1. 1. 1. 1. 1.]\n",
            " [1. 1. 1. 1. 1. 1.]\n",
            " [1. 1. 1. 1. 1. 1.]]\n"
          ]
        }
      ],
      "source": [
        "mat3 = np.zeros([3,4])\n",
        "mat4 = np.ones([5,6])\n",
        "\n",
        "print(mat3)\n",
        "print(mat4)"
      ]
    },
    {
      "cell_type": "markdown",
      "metadata": {
        "id": "_ytaeS0huQe4"
      },
      "source": [
        "## Selecionando elementos de vetores e matrizes\n",
        "\n",
        "Suponha que temos um vetor $[a,b,c,d,e,f,g,h,i]$. Nós podemos selecionar vários subconjuntos de elementos desse vetor, como:\n",
        "\n",
        "- três primeiros elementos\n",
        "- todos os valores após o quinto elemento\n",
        "- os três ultimos valores\n",
        "- os valores entre o quinta elemento até o penúltimo elemento\n",
        "\n",
        "**Observação**: no python, o índice começa a contar em 0."
      ]
    },
    {
      "cell_type": "code",
      "execution_count": null,
      "metadata": {
        "id": "9wfPkSdEuQe4",
        "outputId": "93ce3b7e-c716-4110-bb18-01a720767a84"
      },
      "outputs": [
        {
          "name": "stdout",
          "output_type": "stream",
          "text": [
            "['a' 'b' 'c' 'd' 'e' 'f' 'g' 'h' 'i']\n",
            "3 primeiros ['a' 'b' 'c']\n",
            "Terc. até o quinto:  ['c' 'd' 'e']\n",
            "3 últimos:  ['g' 'h' 'i']\n",
            "[8 7 6 5 4 3 2]\n",
            "['g' 'f' 'e' 'd' 'c' 'b' 'a']\n"
          ]
        }
      ],
      "source": [
        "vet7 = np.array(['a','b','c','d','e','f','g','h','i'])\n",
        "\n",
        "print(vet7)\n",
        "\n",
        "print(\"3 primeiros\", vet7[0:3])\n",
        "print(\"Terc. até o quinto: \", vet7[2:5])\n",
        "print(\"3 últimos: \", vet7[-3:])\n",
        "\n",
        "idx = np.arange( len(vet7)-1,1,-1 )\n",
        "print(idx)\n",
        "\n",
        "print(vet7[-3::-1])"
      ]
    },
    {
      "cell_type": "markdown",
      "metadata": {
        "id": "eBb9nKcbuQe4"
      },
      "source": [
        "Suponha que temos um array: $\\begin{bmatrix}\n",
        "    1a & 1b & 1c & 1d & 1e & 1f & 1g & 1h & 1i \\\\\n",
        "    2a & 2b & 2c & 2d & 2e & 2f & 2g & 2h & 2i \\\\\n",
        "    3a & 3b & 3c & 3d & 3e & 3f & 3g & 3h & 3i \\\\\n",
        "    4a & 4b & 4c & 4d & 4e & 4f & 4g & 4h & 4i \\\\\n",
        "  \\end{bmatrix}$.\n",
        "\n",
        "Nós podemos selecionar vários subconjuntos de elementos dessa matriz, como:\n",
        "- todos os elementos da coluna 3\n",
        "- todos os elementos da linha 2\n",
        "- todos os elementos das duas primeiras colunas\n",
        "- todos os elementos das duas primeiras linhas\n",
        "- apenas os elementos das 2 primeiras linhas e das 2 primeiras colunas\n",
        "- apenas os elementos das 2 últimas linhas e das 4 últimas colunas\n",
        "- apenas os elementos das linhas 2 até 4 e das colunas 4 até 6"
      ]
    },
    {
      "cell_type": "code",
      "execution_count": null,
      "metadata": {
        "id": "FW0HMi4GuQe4"
      },
      "outputs": [],
      "source": [
        "# criando uma matriz\n",
        "arrayA = np.array( [['1a','1b','1c','1d','1e','1f','1g','1h','1i'],\n",
        "                    ['2a','2b','2c','2d','2e','2f','2g','2h','2i'],\n",
        "                    ['3a','3b','3c','3d','3e','3f','3g','3h','3i'],\n",
        "                    ['4a','4b','4c','4d','4e','4f','4g', '4h','4i']])\n",
        "\n",
        "\n",
        "\n",
        "\n",
        "\n",
        "\n",
        "\n"
      ]
    },
    {
      "cell_type": "markdown",
      "metadata": {
        "id": "BtrEzolbuQe4"
      },
      "source": [
        "Nós podemos combinar as operações mostradas acima para gerar imagens. Por exemplo, no exemplo abaixo, iremos criar uma imagem toda azul."
      ]
    },
    {
      "cell_type": "code",
      "execution_count": null,
      "metadata": {
        "id": "WEuJhmNAuQe4"
      },
      "outputs": [],
      "source": [
        "\n",
        "\n",
        "\n",
        "\n",
        "\n",
        "\n"
      ]
    },
    {
      "cell_type": "markdown",
      "metadata": {
        "id": "IUEuaumMuQe4"
      },
      "source": [
        "Agora, iremos misturar a cor azul da imagem com uma nova cor: a verde. Para isso, iremos adicionar a cor verde no segundo canal de cor de cada pixel da primeira coluna da imagem."
      ]
    },
    {
      "cell_type": "code",
      "execution_count": null,
      "metadata": {
        "id": "rWM3PKJfuQe5"
      },
      "outputs": [],
      "source": [
        "\n",
        "\n",
        "\n",
        "\n",
        "\n",
        "\n",
        "\n"
      ]
    },
    {
      "cell_type": "markdown",
      "metadata": {
        "id": "Fa7iMtNDuQe5"
      },
      "source": [
        "Iremos pintar a última linha com a cor vermelha."
      ]
    },
    {
      "cell_type": "code",
      "execution_count": null,
      "metadata": {
        "id": "VN6Kl_wquQe5"
      },
      "outputs": [],
      "source": [
        "\n",
        "\n",
        "\n",
        "\n",
        "\n",
        "\n",
        "\n",
        "\n"
      ]
    },
    {
      "cell_type": "markdown",
      "metadata": {
        "id": "tGF_4OKquQe5"
      },
      "source": [
        "## Operações básicas com vetores e matrizes\n",
        "\n",
        "Soma e subtração entre vetores."
      ]
    },
    {
      "cell_type": "code",
      "execution_count": null,
      "metadata": {
        "id": "gA7vKyOsuQe5"
      },
      "outputs": [],
      "source": [
        "\n",
        "\n",
        "\n",
        "\n"
      ]
    },
    {
      "cell_type": "markdown",
      "metadata": {
        "id": "--kBrShVuQe5"
      },
      "source": [
        "Soma e subtração entre matrizes."
      ]
    },
    {
      "cell_type": "code",
      "execution_count": null,
      "metadata": {
        "id": "yY7SqL8OuQe5"
      },
      "outputs": [],
      "source": [
        "\n",
        "\n",
        "\n",
        "\n",
        "\n",
        "\n",
        "\n"
      ]
    },
    {
      "cell_type": "markdown",
      "metadata": {
        "id": "9c7ZqEYkuQe6"
      },
      "source": [
        "Produto entre duas matrizes.\n",
        "\n",
        "Obs.: para isso ser possível, a quantidade de colunas da primeira, deve ser igual a quantidade de linhas da segunda"
      ]
    },
    {
      "cell_type": "code",
      "execution_count": null,
      "metadata": {
        "id": "NPgkXCX_uQe9"
      },
      "outputs": [],
      "source": [
        "\n",
        "\n",
        "\n",
        "\n",
        "\n"
      ]
    },
    {
      "cell_type": "markdown",
      "metadata": {
        "id": "qHqkHSeXuQe9"
      },
      "source": [
        "Se eu quiser fazer a multiplicação matricial da matriz A por ela mesma, não é possível pois a quantidade de linhas dela é diferente da quantidade de colunas.\n",
        "\n",
        "Porém, eu consigo resolver esse problema, multiplicando A pela sua transposta."
      ]
    },
    {
      "cell_type": "code",
      "execution_count": null,
      "metadata": {
        "id": "CpcVwAyBuQe9"
      },
      "outputs": [],
      "source": [
        "\n",
        "\n",
        "\n",
        "\n",
        "\n",
        "\n"
      ]
    },
    {
      "cell_type": "markdown",
      "metadata": {
        "id": "rjxA9mm0uQe9"
      },
      "source": [
        "Média dos valores de uma matriz."
      ]
    },
    {
      "cell_type": "code",
      "execution_count": null,
      "metadata": {
        "id": "ZfCV72A-uQe-"
      },
      "outputs": [],
      "source": [
        "\n",
        "\n",
        "\n",
        "\n",
        "\n",
        "\n",
        "\n"
      ]
    },
    {
      "cell_type": "markdown",
      "metadata": {
        "id": "3WoSAEqkuQe-"
      },
      "source": [
        "Desvio padrão dos valores de uma matriz."
      ]
    },
    {
      "cell_type": "code",
      "execution_count": null,
      "metadata": {
        "id": "TL-HdAHvuQe-"
      },
      "outputs": [],
      "source": [
        "\n",
        "\n",
        "\n",
        "\n",
        "\n"
      ]
    },
    {
      "cell_type": "markdown",
      "metadata": {
        "id": "VH2doUFBuQe-"
      },
      "source": [
        "Mediana dos valores de uma matriz"
      ]
    },
    {
      "cell_type": "code",
      "execution_count": null,
      "metadata": {
        "id": "rhn9NWS_uQe-"
      },
      "outputs": [],
      "source": [
        "\n",
        "\n",
        "\n",
        "\n",
        "\n",
        "\n",
        "\n",
        "\n",
        "\n"
      ]
    },
    {
      "cell_type": "markdown",
      "metadata": {
        "id": "B5Nev_jmuQe-"
      },
      "source": [
        "Outras funções para vetores e matrizes.\n",
        "* `np.min()` &rarr; valor mínimo\n",
        "* `np.max()` &rarr; valor máximo\n",
        "* `np.sort(A)` &rarr; retorna o vetor $A$ ordenado\n",
        "* `np.argsort(A)` &rarr; retorna os índices do vetor $A$ ordenado\n",
        "* `np.var()` &rarr; variância\n",
        "* `np.shape()` &rarr; dimensões da matriz\n",
        "* `np.transpose()` &rarr; transposta da matriz\n",
        "* `np.concatenate(arrays, axis=numero_do_eixo)` &rarr; concatena vetores ou matrizes\n",
        "* `vstack(A,B)` &rarr; empilha verticalmente\n",
        "* `hstack(A,B)` &rarr; empilha horizontalmente\n",
        "* `np.where(A>n)` &rarr; elementos em $A$ maiores que $n$"
      ]
    },
    {
      "cell_type": "markdown",
      "metadata": {
        "id": "xVUS-O46uQe-"
      },
      "source": [
        "## Exercícios\n",
        "\n",
        "**Ex. 1**. Crie duas matrizes com os nomes $ExA$ e $ExB$ preenchidas com os seguintes valores:\n",
        "\n",
        "$ExA = \\begin{bmatrix}\n",
        "    12 & 9 & 4 & 1 \\\\\n",
        "    11 & 5 & 8 & 1 \\\\\n",
        "    1 & 2 & 3 & 1 \\\\\n",
        "  \\end{bmatrix}\n",
        "$,\n",
        "$\n",
        "ExB = \\begin{bmatrix}\n",
        "    1 & 5 \\\\\n",
        "    1 & 7 \\\\\n",
        "    1 & 9 \\\\\n",
        "    1 & 1 \\\\\n",
        "  \\end{bmatrix}\n",
        "$. Após isso, imprima as duas matrizes."
      ]
    },
    {
      "cell_type": "code",
      "execution_count": null,
      "metadata": {
        "id": "PZf-m61OuQe-"
      },
      "outputs": [],
      "source": [
        "################# ESCREVA SEU CÓDIGO AQUI  ###############################\n",
        "\n",
        "\n",
        "\n",
        "\n",
        "\n",
        "\n",
        "##########################################################################"
      ]
    },
    {
      "cell_type": "markdown",
      "metadata": {
        "id": "5S7TRHxxuQe-"
      },
      "source": [
        "**Ex. 2**. Crie uma matriz $ExC$ usando a seguinte operação: $ExC = ExA \\cdot ExB$. Depois, imprima $ExC$."
      ]
    },
    {
      "cell_type": "code",
      "execution_count": null,
      "metadata": {
        "id": "OZBZOdVLuQe_"
      },
      "outputs": [],
      "source": [
        "################# ESCREVA SEU CÓDIGO AQUI  ###############################\n",
        "\n",
        "\n",
        "\n",
        "\n",
        "\n",
        "\n",
        "##########################################################################"
      ]
    },
    {
      "cell_type": "markdown",
      "metadata": {
        "id": "zheZDJazuQe_"
      },
      "source": [
        "**Ex. 3**. Crie uma função que retorne a média e o desvio padrão das linhas de uma matriz e a média e desvio padrão das colunas de uma matriz. Depois teste sua função com a matriz $ExC$."
      ]
    },
    {
      "cell_type": "code",
      "execution_count": null,
      "metadata": {
        "id": "j5tt1PI_uQe_"
      },
      "outputs": [],
      "source": [
        "################# ESCREVA SEU CÓDIGO AQUI  ###############################\n",
        "\n",
        "\n",
        "\n",
        "\n",
        "\n",
        "\n",
        "\n",
        "\n",
        "\n",
        "##########################################################################"
      ]
    },
    {
      "cell_type": "markdown",
      "metadata": {
        "id": "lW9oNqM-uQe_"
      },
      "source": [
        "**Ex. 4**. Crie uma matriz $ExD$ com os valores das duas últimas colunas de $ExA$. Depois, calcule a média dos valores de $ExD$."
      ]
    },
    {
      "cell_type": "code",
      "execution_count": null,
      "metadata": {
        "scrolled": true,
        "id": "Yas8Q7sduQe_"
      },
      "outputs": [],
      "source": [
        "################# ESCREVA SEU CÓDIGO AQUI  ###############################\n",
        "\n",
        "\n",
        "\n",
        "\n",
        "\n",
        "\n",
        "##########################################################################"
      ]
    },
    {
      "cell_type": "markdown",
      "metadata": {
        "id": "4_lkTtMtuQe_"
      },
      "source": [
        "**Ex. 5**. Crie uma matriz $ExE$ com os valores das linhas 1 e 2 e das colunas 1 e 2 de $ExA$."
      ]
    },
    {
      "cell_type": "code",
      "execution_count": null,
      "metadata": {
        "scrolled": true,
        "id": "YMdqiT_3uQe_"
      },
      "outputs": [],
      "source": [
        "################# ESCREVA SEU CÓDIGO AQUI  ###############################\n",
        "\n",
        "\n",
        "\n",
        "\n",
        "\n",
        "\n",
        "\n",
        "##########################################################################"
      ]
    },
    {
      "cell_type": "markdown",
      "metadata": {
        "id": "fEwvGXJ-uQe_"
      },
      "source": [
        "**Ex. 6**. Crie e imprima uma matriz $ExF$ com 5 linhas e 2 colunas e todos os valores iguais a 0."
      ]
    },
    {
      "cell_type": "code",
      "execution_count": null,
      "metadata": {
        "id": "YvMjb-KWuQfA"
      },
      "outputs": [],
      "source": [
        "################# ESCREVA SEU CÓDIGO AQUI  ###############################\n",
        "\n",
        "\n",
        "\n",
        "\n",
        "\n",
        "\n",
        "##########################################################################"
      ]
    },
    {
      "cell_type": "markdown",
      "metadata": {
        "id": "a1LB7XZJuQfA"
      },
      "source": [
        "**Ex. 7**. Crie e imprima uma matriz $ExG$ com 4 linhas e 3 colunas e todos os valores iguais a 1."
      ]
    },
    {
      "cell_type": "code",
      "execution_count": null,
      "metadata": {
        "id": "MFEHqfRWuQfA"
      },
      "outputs": [],
      "source": [
        "################# ESCREVA SEU CÓDIGO AQUI  ###############################\n",
        "\n",
        "\n",
        "\n",
        "\n",
        "\n",
        "\n",
        "##########################################################################"
      ]
    },
    {
      "cell_type": "markdown",
      "metadata": {
        "id": "47YlfeIPuQfA"
      },
      "source": [
        "**Ex. 8**. Crie uma função que retorne o fatorial de um número. Teste a função que você criou, calculando o fatorial de 8.\n",
        "\n",
        "Fórmula do fatorial: $n! = (1 * 2 * 3 * ... * (n-2) * (n-1) * n)$\n",
        "\n",
        "Obs: é obrigatório usar um laço `for`.\n",
        "\n",
        "Exemplos:\n",
        "* $1! = 1$\n",
        "* $2! = 1*2$\n",
        "* $3! = 1*2*3$\n",
        "* $4! = 1*2*3*4$\n",
        "* $5! = 1*2*3*4*5$"
      ]
    },
    {
      "cell_type": "code",
      "execution_count": null,
      "metadata": {
        "id": "J0-FUyttuQfA"
      },
      "outputs": [],
      "source": [
        "################# ESCREVA SEU CÓDIGO AQUI  ###############################\n",
        "\n",
        "\n",
        "\n",
        "\n",
        "\n",
        "\n",
        "\n",
        "\n",
        "##########################################################################"
      ]
    },
    {
      "cell_type": "markdown",
      "metadata": {
        "id": "nOmP0Py-uQfA"
      },
      "source": [
        "**Ex. 9.** Crie um retângulo na cor verde. Depois, desenhe a letra **E** maiúscula nesse retângulo com a cor vermelha."
      ]
    },
    {
      "cell_type": "code",
      "execution_count": null,
      "metadata": {
        "id": "wehen2GxuQfA"
      },
      "outputs": [],
      "source": [
        "################# ESCREVA SEU CÓDIGO AQUI  ###############################\n",
        "\n",
        "\n",
        "\n",
        "\n",
        "\n",
        "\n",
        "##########################################################################"
      ]
    }
  ],
  "metadata": {
    "kernelspec": {
      "display_name": "Python 3 (ipykernel)",
      "language": "python",
      "name": "python3"
    },
    "language_info": {
      "codemirror_mode": {
        "name": "ipython",
        "version": 3
      },
      "file_extension": ".py",
      "mimetype": "text/x-python",
      "name": "python",
      "nbconvert_exporter": "python",
      "pygments_lexer": "ipython3",
      "version": "3.11.5"
    },
    "vscode": {
      "interpreter": {
        "hash": "d8d3ff3e2b5334ad4397068f2512301b7247a0268b8f631cb00f1cdcbb1f6f82"
      }
    },
    "colab": {
      "provenance": [],
      "include_colab_link": true
    }
  },
  "nbformat": 4,
  "nbformat_minor": 0
}