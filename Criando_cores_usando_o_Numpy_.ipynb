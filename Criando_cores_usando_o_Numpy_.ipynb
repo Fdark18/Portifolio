{
  "nbformat": 4,
  "nbformat_minor": 0,
  "metadata": {
    "colab": {
      "provenance": [],
      "authorship_tag": "ABX9TyMkRXIBHDrYtRKe2zitjZRH",
      "include_colab_link": true
    },
    "kernelspec": {
      "name": "python3",
      "display_name": "Python 3"
    },
    "language_info": {
      "name": "python"
    }
  },
  "cells": [
    {
      "cell_type": "markdown",
      "metadata": {
        "id": "view-in-github",
        "colab_type": "text"
      },
      "source": [
        "<a href=\"https://colab.research.google.com/github/Fdark18/Portifolio/blob/main/Criando_cores_usando_o_Numpy_.ipynb\" target=\"_parent\"><img src=\"https://colab.research.google.com/assets/colab-badge.svg\" alt=\"Open In Colab\"/></a>"
      ]
    },
    {
      "cell_type": "code",
      "execution_count": 2,
      "metadata": {
        "id": "oqbywGWM7K55"
      },
      "outputs": [],
      "source": [
        "import numpy as np\n",
        "import cv2\n",
        "import matplotlib.pyplot as plt"
      ]
    },
    {
      "cell_type": "markdown",
      "source": [
        "**Dimensções da imagem (exemplo, 100x100 pixels)**"
      ],
      "metadata": {
        "id": "-cHIGLLL7isf"
      }
    },
    {
      "cell_type": "code",
      "source": [
        "width, height = 100, 100"
      ],
      "metadata": {
        "id": "qhnhNS_e7cfW"
      },
      "execution_count": 3,
      "outputs": []
    },
    {
      "cell_type": "markdown",
      "source": [
        "**Criando uma matrizes**"
      ],
      "metadata": {
        "id": "ThlvfSvW7008"
      }
    },
    {
      "cell_type": "code",
      "source": [
        "## Criando uma matriz vermelha (todos os pixels vermelhos)\n",
        "\n",
        "red_imagem = np.zeros ((height, width, 3 ), dtype=np.uint8)\n",
        "red_imagem [:, :, 0] = 255 # Define o canal vermelho para 255 (Maximo)\n",
        "\n",
        "#--------------------------------------------------------------------\n",
        "# Criando uma matriz verde (todos os pixels verdes)\n",
        "green_imagem = np.zeros((height, width, 3), dtype=np.uint8)\n",
        "green_imagem [:, :, 1] = 255 # Define o canal verde para 255 (máximo)\n",
        "\n",
        "# -------------------------------------------------------------------\n",
        "# Criando uma matriz azul (todos os pixels azuis)\n",
        "blue_imagem = np.zeros((height, width, 3), dtype=np.uint8)\n",
        "blue_imagem [:, :, 2] = 255 # Define o canal azul para 255 (máximo)"
      ],
      "metadata": {
        "id": "Wkle5T5z7-fC"
      },
      "execution_count": 8,
      "outputs": []
    },
    {
      "cell_type": "markdown",
      "source": [
        "# Salvar as imagens em arquivo\n"
      ],
      "metadata": {
        "id": "tKcK4Qaf92Le"
      }
    },
    {
      "cell_type": "code",
      "source": [
        "cv2.imwrite(\"red_image.png\", red_imagem)\n",
        "cv2.imwrite(\"green_image.png\", green_imagem)\n",
        "cv2.imwrite(\"blue_image.png\", blue_imagem)\n",
        "\n",
        "print(\"Imagens criadas e salvas com sucesso!\")"
      ],
      "metadata": {
        "colab": {
          "base_uri": "https://localhost:8080/"
        },
        "id": "8VsTf_rL9_23",
        "outputId": "19350e77-271f-4f29-e487-841fccba312b"
      },
      "execution_count": 6,
      "outputs": [
        {
          "output_type": "stream",
          "name": "stdout",
          "text": [
            "Imagens criadas e salvas com sucesso!\n"
          ]
        }
      ]
    },
    {
      "cell_type": "code",
      "source": [
        "# plota a imagem vermelha\n",
        "plt.imshow(red_imagem)\n",
        "plt.title('Vermelho')\n",
        "plt.show()\n",
        "\n",
        "# plota a imagem verde\n",
        "plt.imshow(green_imagem)\n",
        "plt.title('Verde')\n",
        "plt.show()\n",
        "\n",
        "# plota a imagem azul\n",
        "plt.imshow(blue_imagem)\n",
        "plt.title('Azul')\n",
        "plt.show()"
      ],
      "metadata": {
        "id": "YmILihm_91rL"
      },
      "execution_count": null,
      "outputs": []
    }
  ]
}