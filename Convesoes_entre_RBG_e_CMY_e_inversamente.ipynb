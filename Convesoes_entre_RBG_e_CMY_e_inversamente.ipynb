{
  "nbformat": 4,
  "nbformat_minor": 0,
  "metadata": {
    "colab": {
      "provenance": [],
      "authorship_tag": "ABX9TyO60d8wAI4fYF5l/mIvjXEl",
      "include_colab_link": true
    },
    "kernelspec": {
      "name": "python3",
      "display_name": "Python 3"
    },
    "language_info": {
      "name": "python"
    }
  },
  "cells": [
    {
      "cell_type": "markdown",
      "metadata": {
        "id": "view-in-github",
        "colab_type": "text"
      },
      "source": [
        "<a href=\"https://colab.research.google.com/github/Fdark18/Portifolio/blob/main/Convesoes_entre_RBG_e_CMY_e_inversamente.ipynb\" target=\"_parent\"><img src=\"https://colab.research.google.com/assets/colab-badge.svg\" alt=\"Open In Colab\"/></a>"
      ]
    },
    {
      "cell_type": "markdown",
      "source": [
        "# **Conversão de RGB para CMY**\n",
        "Para converter uma cor RGB em uma cor CMY, podemos usar a seguinte fórmula:\n",
        "\n",
        "C = 1 - R / 255\n",
        "M = 1 - G / 255\n",
        "Y = 1 - B / 255\n",
        "Onde R, G e B são os valores da cor RGB no intervalo de 0 a 255, e C, M e Y são os valores da cor CMY no intervalo de 0 a 1.\n",
        "\n",
        "Veja um exemplo:\n",
        "\n",
        "Suponha que temos uma cor RGB com os valores R = 200, G = 100 e B = 50.\n",
        "Para converter essa cor em CMY, aplicamos a fórmula:\n",
        "C = 1 - 200 / 255 = 0.215\n",
        "M = 1 - 100 / 255 = 0.608\n",
        "Y = 1 - 50 / 255 = 0.804\n",
        "Portanto, a cor CMY equivalente é C = 0.215, M = 0.608 e Y = 0.804.\n",
        "Para fazer essa conversão em Python, podemos usar a biblioteca NumPy, que nos permite trabalhar com matrizes e vetores de forma eficiente. Veja como:\n",
        "\n",
        "Importe o NumPy em seu código usando a declaração:"
      ],
      "metadata": {
        "id": "AwSvtdV37AzX"
      }
    },
    {
      "cell_type": "code",
      "execution_count": 1,
      "metadata": {
        "id": "OeWq_REN60TV"
      },
      "outputs": [],
      "source": [
        "import numpy as np"
      ]
    },
    {
      "cell_type": "markdown",
      "source": [
        "Crie um vetor com os valores da cor RGB que você deseja converter. Por exemplo:"
      ],
      "metadata": {
        "id": "wDPxlIab73nw"
      }
    },
    {
      "cell_type": "code",
      "source": [
        "rgb = np.array([200,100,50])"
      ],
      "metadata": {
        "id": "wbhDXy5h7kCo"
      },
      "execution_count": 2,
      "outputs": []
    },
    {
      "cell_type": "markdown",
      "source": [
        "Aplique a fórmula de conversão usando a operação de subtração e divisão do NumPy. Por exemplo:\n"
      ],
      "metadata": {
        "id": "ptkfAgio7_5h"
      }
    },
    {
      "cell_type": "code",
      "source": [
        "cmy = 1 - rgb / 255\n",
        "#Imprima o resultado na tela. Por exemplo:\n",
        "print(cmy)"
      ],
      "metadata": {
        "colab": {
          "base_uri": "https://localhost:8080/"
        },
        "id": "C9Aq7Uro7yxc",
        "outputId": "82cb7eaa-79e7-4072-83fc-a2705cf1c452"
      },
      "execution_count": 3,
      "outputs": [
        {
          "output_type": "stream",
          "name": "stdout",
          "text": [
            "[0.21568627 0.60784314 0.80392157]\n"
          ]
        }
      ]
    },
    {
      "cell_type": "markdown",
      "source": [
        "# **Conversão de CMY para RGB**\n",
        "Para converter uma cor CMY em uma cor RGB, podemos usar a seguinte fórmula:\n",
        "\n",
        "R = 255 * (1 - C)\n",
        "G = 255 * (1 - M)\n",
        "B = 255 * (1 - Y)\n",
        "Onde C, M e Y são os valores da cor CMY no intervalo de 0 a 1, e R, G e B são os valores da cor RGB no intervalo de 0 a 255.\n",
        "\n",
        "Veja um exemplo:\n",
        "\n",
        "Suponha que temos uma cor CMY com os valores C = 0.215, M = 0.608 e Y = 0.804.\n",
        "Para converter essa cor em RGB, aplicamos a fórmula:"
      ],
      "metadata": {
        "id": "cBtTEvX_8XYQ"
      }
    },
    {
      "cell_type": "markdown",
      "source": [
        "Importe o NumPy em seu código usando a declaração:"
      ],
      "metadata": {
        "id": "5W9fzY_v8yvU"
      }
    },
    {
      "cell_type": "code",
      "source": [
        "import numpy as np"
      ],
      "metadata": {
        "id": "AzeHMj-w8gJm"
      },
      "execution_count": 4,
      "outputs": []
    },
    {
      "cell_type": "markdown",
      "source": [
        "Crie um vetor com os valores da cor CMY que você deseja converter. Por exemplo:"
      ],
      "metadata": {
        "id": "69yLIwej8zvK"
      }
    },
    {
      "cell_type": "code",
      "source": [
        "cmy = np.array([0.215,0.608,0.804])"
      ],
      "metadata": {
        "id": "DIkaBiNO81vi"
      },
      "execution_count": 5,
      "outputs": []
    },
    {
      "cell_type": "markdown",
      "source": [
        "Aplique a fórmula de conversão usando a operação de multiplicação e subtração do NumPy. Por exemplo:"
      ],
      "metadata": {
        "id": "xB5nJYPz9Bvz"
      }
    },
    {
      "cell_type": "code",
      "source": [
        "rgb = 255 * (1-cmy)\n",
        "#Imprima o resultado na tela. Por exemplo:\n",
        "print(rgb)"
      ],
      "metadata": {
        "colab": {
          "base_uri": "https://localhost:8080/"
        },
        "id": "2sSOyufN9CYn",
        "outputId": "3e7f8e1c-9902-40f7-ce49-a8e2dc7e3e4a"
      },
      "execution_count": 6,
      "outputs": [
        {
          "output_type": "stream",
          "name": "stdout",
          "text": [
            "[200.175  99.96   49.98 ]\n"
          ]
        }
      ]
    }
  ]
}